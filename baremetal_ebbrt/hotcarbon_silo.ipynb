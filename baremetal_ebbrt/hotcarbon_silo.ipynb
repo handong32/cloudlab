{
 "cells": [
  {
   "cell_type": "code",
   "execution_count": 10,
   "id": "db2e93fe-245a-4c00-b074-a1f684c4419a",
   "metadata": {},
   "outputs": [],
   "source": [
    "import pandas as pd\n",
    "import numpy as np\n",
    "import argparse\n",
    "import itertools\n",
    "import matplotlib.pyplot as plt\n",
    "\n",
    "import re\n",
    "import os\n",
    "from os import path\n",
    "import sys\n",
    "import time"
   ]
  },
  {
   "cell_type": "code",
   "execution_count": 2,
   "id": "61a44e96-9199-41b2-8d78-62fd7bf02616",
   "metadata": {},
   "outputs": [],
   "source": [
    "ms= {\n",
    "    'EbbRT-Node1': 'v',\n",
    "    'Linux-Node1': 'x',\n",
    "    'Linux-Node2': '*',\n",
    "    'Linux-Node3': 'o',\n",
    "}\n",
    "\n",
    "df_dict = {\n",
    "    'qps': [],\n",
    "    'i' : [],\n",
    "    'ins': [],\n",
    "    'cyc': [],\n",
    "    'refcyc': [],\n",
    "    'joules': [],\n",
    "    'tail': [],\n",
    "}\n",
    "\n",
    "def resetdict():\n",
    "    for key in df_dict:\n",
    "        df_dict[key] = []\n",
    "\n",
    "def parseLat(s):\n",
    "    with open(s) as file:\n",
    "        for line in file:\n",
    "            if 'read' in line:\n",
    "                return float((line.strip().split())[9])"
   ]
  },
  {
   "cell_type": "markdown",
   "id": "8c5c8cd7-9655-468d-8f85-0e81f6bcce5b",
   "metadata": {},
   "source": [
    "## EbbRT C220G1"
   ]
  },
  {
   "cell_type": "code",
   "execution_count": 3,
   "id": "7498569a-864b-49ef-9ea5-74e4597358bb",
   "metadata": {},
   "outputs": [
    {
     "name": "stdout",
     "output_type": "stream",
     "text": [
      "                 ins           cyc        refcyc       joules         tail  \\\n",
      "qps                                                                          \n",
      "100000  2.260118e+11  2.033328e+11  1.991939e+11  1802.183333   200.766667   \n",
      "200000  4.506124e+11  3.954283e+11  3.797036e+11  2009.243333   241.800000   \n",
      "300000  6.757110e+11  5.847277e+11  5.608119e+11  2259.073333   302.800000   \n",
      "400000  9.009332e+11  7.680198e+11  7.365544e+11  2451.133333   431.000000   \n",
      "500000  1.125656e+12  9.458028e+11  9.070435e+11  2642.900000  1067.300000   \n",
      "\n",
      "               type       ipc     qps  kqps      watts          rpj  \n",
      "qps                                                                  \n",
      "100000  EbbRT-Node1  1.134632  100000   100  60.072778  1664.647511  \n",
      "200000  EbbRT-Node1  1.186748  200000   200  66.974778  2986.198785  \n",
      "300000  EbbRT-Node1  1.204880  300000   300  75.302444  3983.934416  \n",
      "400000  EbbRT-Node1  1.223173  400000   400  81.704444  4895.694509  \n",
      "500000  EbbRT-Node1  1.241017  500000   500  88.096667  5675.583639  \n",
      "Largest error in dfebbrt was 0.99% of mean\n"
     ]
    },
    {
     "name": "stderr",
     "output_type": "stream",
     "text": [
      "/tmp/ipykernel_6660/189383046.py:46: FutureWarning: Calling float on a single element Series is deprecated and will raise a TypeError in the future. Use float(ser.iloc[0]) instead\n",
      "  meanm=round(float(dfebbrt[(dfebbrt['qps'] == mqps)][metric]), 2)\n",
      "/tmp/ipykernel_6660/189383046.py:47: FutureWarning: Calling float on a single element Series is deprecated and will raise a TypeError in the future. Use float(ser.iloc[0]) instead\n",
      "  stdm=round(float(dfebbrtstd[(dfebbrtstd['qps'] == mqps)][metric]),2)\n"
     ]
    }
   ],
   "source": [
    "qps=0\n",
    "i=0\n",
    "with open(\"c220g1/silo/results.md\") as file:\n",
    "    for line in file:        \n",
    "        ins=0\n",
    "        cyc=0\n",
    "        refcyc=0\n",
    "        joules=0.0\n",
    "        if \"MQPS\" in line.strip():\n",
    "            qps = int(line.strip().split(' ')[2])\n",
    "            i = 0\n",
    "        elif \"[STATS ALL]\" in line.strip():            \n",
    "            tmp = line.strip().split(' ')\n",
    "            #print(tmp)\n",
    "            ins = int(tmp[2])\n",
    "            cyc = int(tmp[3])\n",
    "            refcyc = int(tmp[4])\n",
    "            joules = float(tmp[5])\n",
    "\n",
    "            df_dict['qps'].append(qps)\n",
    "            df_dict['i'].append(i)\n",
    "            df_dict['ins'].append(ins)\n",
    "            df_dict['cyc'].append(cyc)\n",
    "            df_dict['refcyc'].append(refcyc)\n",
    "            df_dict['joules'].append(joules)\n",
    "            df_dict['tail'].append(parseLat(f\"c220g1/silo/ebbrtbm_silo_qps{qps}_iter{i}.out\"))\n",
    "            i += 1\n",
    "df = pd.DataFrame(df_dict)\n",
    "qpss=df['qps'].unique()\n",
    "dfebbrt = df.groupby(['qps']).mean()\n",
    "dfebbrt['type'] = type\n",
    "dfebbrt['ipc'] = dfebbrt['ins']/dfebbrt['refcyc']\n",
    "dfebbrt=dfebbrt.drop(columns=['i'])\n",
    "dfebbrt['qps'] = qpss\n",
    "dfebbrt['kqps']=[int(x / 1000) for x in qpss]\n",
    "dfebbrt['type']='EbbRT-Node1'\n",
    "dfebbrt['watts'] = dfebbrt['joules']/30.0\n",
    "dfebbrt['rpj'] = dfebbrt['qps']/dfebbrt['watts']\n",
    "print(dfebbrt)\n",
    "\n",
    "dfebbrtstd = df.groupby(['qps']).std()\n",
    "dfebbrtstd['qps']=qpss\n",
    "maxerr=0.0\n",
    "for mqps in range(100000, 500000, 100000):\n",
    "    for metric in ['ins', 'cyc', 'refcyc', 'joules']:\n",
    "        meanm=round(float(dfebbrt[(dfebbrt['qps'] == mqps)][metric]), 2)\n",
    "        stdm=round(float(dfebbrtstd[(dfebbrtstd['qps'] == mqps)][metric]),2)\n",
    "        #print(mqps, metric, meanm, stdm, round((stdm/meanm)*100.0, 2))\n",
    "        maxerr=max(maxerr, round((stdm/meanm)*100.0, 2))\n",
    "print(f\"Largest error in dfebbrt was {maxerr}% of mean\")"
   ]
  },
  {
   "cell_type": "markdown",
   "id": "fa8b6d96-3318-42c9-acb6-b34ef45c3172",
   "metadata": {},
   "source": [
    "## Linux C220G1"
   ]
  },
  {
   "cell_type": "code",
   "execution_count": 4,
   "id": "d857feff-80cf-4249-b0dd-0be673eccdb5",
   "metadata": {},
   "outputs": [
    {
     "name": "stdout",
     "output_type": "stream",
     "text": [
      "176170693774.0 128721866509.0 97777050066.0 1430.04\n",
      "                 ins           cyc        refcyc     joules       tail  \\\n",
      "qps                                                                      \n",
      "100000  2.908164e+11  5.726933e+11  4.657972e+11  2007.8700    295.625   \n",
      "200000  5.478447e+11  1.006666e+12  8.698660e+11  2429.6475    370.475   \n",
      "300000  7.919115e+11  1.461441e+12  1.288450e+12  2725.0800    712.775   \n",
      "400000  1.014208e+12  1.878810e+12  1.673696e+12  2954.2800  13758.000   \n",
      "\n",
      "             ipc     qps  kqps         type     watts          rpj  \n",
      "qps                                                                 \n",
      "100000  0.624341  100000   100  Linux-Node1  66.92900  1494.120635  \n",
      "200000  0.629804  200000   200  Linux-Node1  80.98825  2469.494032  \n",
      "300000  0.614623  300000   300  Linux-Node1  90.83600  3302.655335  \n",
      "400000  0.605969  400000   400  Linux-Node1  98.47600  4061.903408  \n",
      "Largest error in dflinux_c220g1 was 1.09% of mean\n"
     ]
    },
    {
     "name": "stderr",
     "output_type": "stream",
     "text": [
      "/tmp/ipykernel_6660/257087371.py:76: FutureWarning: Calling float on a single element Series is deprecated and will raise a TypeError in the future. Use float(ser.iloc[0]) instead\n",
      "  meanm=round(float(dflinux_c220g1[(dflinux_c220g1['qps'] == mqps)][metric]), 2)\n",
      "/tmp/ipykernel_6660/257087371.py:77: FutureWarning: Calling float on a single element Series is deprecated and will raise a TypeError in the future. Use float(ser.iloc[0]) instead\n",
      "  stdm=round(float(dflinux_c220g1std[(dflinux_c220g1std['qps'] == mqps)][metric]),2)\n"
     ]
    }
   ],
   "source": [
    "## Overheads\n",
    "resetdict()\n",
    "ins_oh_arr=[]\n",
    "cyc_oh_arr=[]\n",
    "refcyc_oh_arr=[]\n",
    "joules_oh_arr=[]\n",
    "\n",
    "ins_oh=0\n",
    "cyc_oh=0\n",
    "refcyc_oh=0\n",
    "joules_oh=0.0\n",
    "for i in range (0, 4):    \n",
    "    with open(f\"c220g1/linux_silo/PerfStat.Ins.Overhead.linux_silo_iter{i}\") as file:\n",
    "        for line in file:      \n",
    "            if 'instructions' in line:\n",
    "                ins_oh_arr.append(int((line.strip().split(','))[0]))\n",
    "            elif \"ref-cycles\" in line:\n",
    "                refcyc_oh_arr.append(int((line.strip().split(','))[0]))\n",
    "            elif 'cycles' in line:\n",
    "                cyc_oh_arr.append(int((line.strip().split(','))[0]))\n",
    "    with open(f\"c220g1/linux_silo/PerfStat.Joules.Overhead.linux_silo_iter{i}\") as file:\n",
    "        for line in file:\n",
    "            if 'Joules' in line:\n",
    "                joules_oh_arr.append(float((line.strip().split(','))[0]))\n",
    "ins_oh = np.mean(ins_oh_arr)\n",
    "cyc_oh = np.mean(cyc_oh_arr)\n",
    "refcyc_oh = np.mean(refcyc_oh_arr)\n",
    "joules_oh = np.mean(joules_oh_arr)\n",
    "            \n",
    "print(ins_oh, cyc_oh, refcyc_oh, joules_oh)\n",
    "for mqps in range(100000, 500000, 100000):\n",
    "    for iter in range(0, 5):\n",
    "        if os.path.exists(f\"c220g1/linux_silo/PerfStat.Ins.linux_silo_mqps{mqps}_iter{iter}\") and os.path.exists(f\"c220g1/linux_silo/PerfStat.Joules.linux_silo_mqps{mqps}_iter{iter}\"):\n",
    "            ins=0\n",
    "            cyc=0\n",
    "            refcyc=0\n",
    "            joules=0.0\n",
    "            with open(f\"c220g1/linux_silo/PerfStat.Ins.linux_silo_mqps{mqps}_iter{iter}\") as file:\n",
    "                for line in file:  \n",
    "                    if 'instructions' in line:\n",
    "                        ins = int((line.strip().split(','))[0]) - ins_oh\n",
    "                    elif \"ref-cycles\" in line:\n",
    "                        refcyc = int((line.strip().split(','))[0]) - cyc_oh\n",
    "                    elif 'cycles' in line:\n",
    "                        cyc = int((line.strip().split(','))[0]) - refcyc_oh\n",
    "            with open(f\"c220g1/linux_silo/PerfStat.Joules.linux_silo_mqps{mqps}_iter{iter}\") as file:\n",
    "                for line in file: \n",
    "                    if 'Joules' in line:\n",
    "                        joules = float((line.strip().split(','))[0]) - joules_oh\n",
    "            tail = parseLat(f\"c220g1/linux_silo/linux_silo_mqps{mqps}_iter{iter}.out\")\n",
    "            df_dict['qps'].append(mqps)\n",
    "            df_dict['i'].append(iter)\n",
    "            df_dict['ins'].append(ins)\n",
    "            df_dict['cyc'].append(cyc)\n",
    "            df_dict['refcyc'].append(refcyc)\n",
    "            df_dict['joules'].append(joules)\n",
    "            df_dict['tail'].append(tail)\n",
    "\n",
    "df = pd.DataFrame(df_dict)\n",
    "qpss=df['qps'].unique()\n",
    "dflinux_c220g1 = df.groupby(['qps']).mean()\n",
    "dflinux_c220g1['ipc'] = dflinux_c220g1['ins']/dflinux_c220g1['refcyc']\n",
    "dflinux_c220g1=dflinux_c220g1.drop(columns=['i'])\n",
    "dflinux_c220g1['qps'] = qpss\n",
    "dflinux_c220g1['kqps']=[int(x / 1000) for x in qpss]\n",
    "dflinux_c220g1['type']='Linux-Node1'\n",
    "dflinux_c220g1['watts'] = dflinux_c220g1['joules']/30.0\n",
    "dflinux_c220g1['rpj'] = dflinux_c220g1['qps']/dflinux_c220g1['watts']\n",
    "print(dflinux_c220g1)\n",
    "\n",
    "dflinux_c220g1std = df.groupby(['qps']).std()\n",
    "dflinux_c220g1std['qps']=qpss\n",
    "maxerr=0.0\n",
    "for mqps in range(100000, 400000, 100000):\n",
    "    for metric in ['ins', 'cyc', 'refcyc', 'joules']:\n",
    "        meanm=round(float(dflinux_c220g1[(dflinux_c220g1['qps'] == mqps)][metric]), 2)\n",
    "        stdm=round(float(dflinux_c220g1std[(dflinux_c220g1std['qps'] == mqps)][metric]),2)\n",
    "        #print(mqps, metric, round((stdm/meanm)*100.0, 2))\n",
    "        maxerr=max(maxerr, round((stdm/meanm)*100.0, 2))\n",
    "print(f\"Largest error in dflinux_c220g1 was {maxerr}% of mean\")\n"
   ]
  },
  {
   "cell_type": "code",
   "execution_count": null,
   "id": "2916cd2b-769e-4fa9-81eb-01bff0885f46",
   "metadata": {},
   "outputs": [],
   "source": []
  },
  {
   "cell_type": "markdown",
   "id": "00fe5451-ce49-47c7-9d0f-a2545f35eace",
   "metadata": {},
   "source": [
    "## Linux C220G5"
   ]
  },
  {
   "cell_type": "code",
   "execution_count": 5,
   "id": "aed3280f-83f9-4a79-a8ba-48c9be9cd525",
   "metadata": {},
   "outputs": [
    {
     "name": "stdout",
     "output_type": "stream",
     "text": [
      "222628275024.5 408425549681.5 359598701616.0 8854.05\n",
      "                 ins           cyc        refcyc    joules     tail       ipc  \\\n",
      "qps                                                                             \n",
      "100000  2.908098e+11  5.628346e+11  4.045625e+11  2697.335   297.65  0.718826   \n",
      "200000  5.490699e+11  1.039135e+12  8.227019e+11  3064.155   383.80  0.667398   \n",
      "300000  7.914593e+11  1.499348e+12  1.227726e+12  3388.390   585.80  0.644655   \n",
      "400000  0.000000e+00  0.000000e+00  0.000000e+00  3624.300  2845.90       NaN   \n",
      "\n",
      "           qps  kqps         type       watts          rpj  \n",
      "qps                                                         \n",
      "100000  100000   100  Linux-Node2   89.911167  1112.208902  \n",
      "200000  200000   200  Linux-Node2  102.138500  1958.125486  \n",
      "300000  300000   300  Linux-Node2  112.946333  2656.128722  \n",
      "400000  400000   400  Linux-Node2  120.810000  3310.984190  \n",
      "Largest error in dflinux_c220g5 was 0.95% of mean\n"
     ]
    },
    {
     "name": "stderr",
     "output_type": "stream",
     "text": [
      "/tmp/ipykernel_6660/1999495674.py:76: FutureWarning: Calling float on a single element Series is deprecated and will raise a TypeError in the future. Use float(ser.iloc[0]) instead\n",
      "  meanm=round(float(dflinux_c220g5[(dflinux_c220g5['qps'] == mqps)][metric]), 2)\n",
      "/tmp/ipykernel_6660/1999495674.py:77: FutureWarning: Calling float on a single element Series is deprecated and will raise a TypeError in the future. Use float(ser.iloc[0]) instead\n",
      "  stdm=round(float(dflinux_c220g5std[(dflinux_c220g5std['qps'] == mqps)][metric]),2)\n"
     ]
    }
   ],
   "source": [
    "## Overheads\n",
    "resetdict()\n",
    "ins_oh_arr=[]\n",
    "cyc_oh_arr=[]\n",
    "refcyc_oh_arr=[]\n",
    "joules_oh_arr=[]\n",
    "\n",
    "ins_oh=0\n",
    "cyc_oh=0\n",
    "refcyc_oh=0\n",
    "joules_oh=0.0\n",
    "for i in range (0, 2):    \n",
    "    with open(f\"c220g5/linux_silo/PerfStat.Ins.Overhead.linux_silo_iter{i}\") as file:\n",
    "        for line in file:      \n",
    "            if 'instructions' in line:\n",
    "                ins_oh_arr.append(int((line.strip().split(','))[0]))\n",
    "            elif \"ref-cycles\" in line:\n",
    "                refcyc_oh_arr.append(int((line.strip().split(','))[0]))\n",
    "            elif 'cycles' in line:\n",
    "                cyc_oh_arr.append(int((line.strip().split(','))[0]))\n",
    "    with open(f\"c220g5/linux_silo/PerfStat.Joules.Overhead.linux_silo_iter{i}\") as file:\n",
    "        for line in file:\n",
    "            if 'Joules' in line:\n",
    "                joules_oh_arr.append(float((line.strip().split(','))[0]))\n",
    "ins_oh = np.mean(ins_oh_arr)\n",
    "cyc_oh = np.mean(cyc_oh_arr)\n",
    "refcyc_oh = np.mean(refcyc_oh_arr)\n",
    "joules_oh = np.mean(joules_oh_arr)\n",
    "            \n",
    "print(ins_oh, cyc_oh, refcyc_oh, joules_oh)\n",
    "for mqps in range(100000, 500000, 100000):\n",
    "    for iter in range(0, 5):\n",
    "        if os.path.exists(f\"c220g5/linux_silo/PerfStat.Ins.linux_silo_mqps{mqps}_iter{iter}\") and os.path.exists(f\"c220g5/linux_silo/PerfStat.Joules.linux_silo_mqps{mqps}_iter{iter}\"):\n",
    "            ins=0\n",
    "            cyc=0\n",
    "            refcyc=0\n",
    "            joules=0.0\n",
    "            with open(f\"c220g5/linux_silo/PerfStat.Ins.linux_silo_mqps{mqps}_iter{iter}\") as file:\n",
    "                for line in file:  \n",
    "                    if 'instructions' in line:\n",
    "                        ins = int((line.strip().split(','))[0]) - ins_oh\n",
    "                    elif \"ref-cycles\" in line:\n",
    "                        refcyc = int((line.strip().split(','))[0]) - cyc_oh\n",
    "                    elif 'cycles' in line:\n",
    "                        cyc = int((line.strip().split(','))[0]) - refcyc_oh\n",
    "            with open(f\"c220g5/linux_silo/PerfStat.Joules.linux_silo_mqps{mqps}_iter{iter}\") as file:\n",
    "                for line in file: \n",
    "                    if 'Joules' in line:\n",
    "                        joules = float((line.strip().split(','))[0]) - joules_oh\n",
    "            tail = parseLat(f\"c220g5/linux_silo/linux_silo_mqps{mqps}_iter{iter}.out\")\n",
    "            df_dict['qps'].append(mqps)\n",
    "            df_dict['i'].append(iter)\n",
    "            df_dict['ins'].append(ins)\n",
    "            df_dict['cyc'].append(cyc)\n",
    "            df_dict['refcyc'].append(refcyc)\n",
    "            df_dict['joules'].append(joules)\n",
    "            df_dict['tail'].append(tail)\n",
    "\n",
    "df = pd.DataFrame(df_dict)\n",
    "qpss=df['qps'].unique()\n",
    "dflinux_c220g5 = df.groupby(['qps']).mean()\n",
    "dflinux_c220g5['ipc'] = dflinux_c220g5['ins']/dflinux_c220g5['refcyc']\n",
    "dflinux_c220g5=dflinux_c220g5.drop(columns=['i'])\n",
    "dflinux_c220g5['qps'] = qpss\n",
    "dflinux_c220g5['kqps']=[int(x / 1000) for x in qpss]\n",
    "dflinux_c220g5['type']='Linux-Node2'\n",
    "dflinux_c220g5['watts'] = dflinux_c220g5['joules']/30.0\n",
    "dflinux_c220g5['rpj'] = dflinux_c220g5['qps']/dflinux_c220g5['watts']\n",
    "print(dflinux_c220g5)\n",
    "\n",
    "dflinux_c220g5std = df.groupby(['qps']).std()\n",
    "dflinux_c220g5std['qps']=qpss\n",
    "maxerr=0.0\n",
    "for mqps in range(100000, 400000, 100000):\n",
    "    for metric in ['ins', 'cyc', 'refcyc', 'joules']:\n",
    "        meanm=round(float(dflinux_c220g5[(dflinux_c220g5['qps'] == mqps)][metric]), 2)\n",
    "        stdm=round(float(dflinux_c220g5std[(dflinux_c220g5std['qps'] == mqps)][metric]),2)\n",
    "        #print(mqps, metric, meanm, stdm, round((stdm/meanm)*100.0, 2))\n",
    "        maxerr=max(maxerr, round((stdm/meanm)*100.0, 2))\n",
    "print(f\"Largest error in dflinux_c220g5 was {maxerr}% of mean\")\n"
   ]
  },
  {
   "cell_type": "code",
   "execution_count": null,
   "id": "a2d4fd22-fea4-4208-9230-a1f959df1d0b",
   "metadata": {},
   "outputs": [],
   "source": []
  },
  {
   "cell_type": "code",
   "execution_count": null,
   "id": "09d5bda5-f2f1-4d99-8cec-915e798e12dc",
   "metadata": {},
   "outputs": [],
   "source": []
  },
  {
   "cell_type": "code",
   "execution_count": null,
   "id": "4b888367-663a-4636-a3cf-5a58c7734ea6",
   "metadata": {},
   "outputs": [],
   "source": []
  },
  {
   "cell_type": "code",
   "execution_count": null,
   "id": "d87e0a7a-e387-43d9-ae47-5d88f577816f",
   "metadata": {},
   "outputs": [],
   "source": []
  },
  {
   "cell_type": "markdown",
   "id": "83009ecb-6a71-4f4e-a47a-807c8db672cf",
   "metadata": {},
   "source": [
    "## Linux sm220u"
   ]
  },
  {
   "cell_type": "code",
   "execution_count": 6,
   "id": "ef95dd05-37de-45bf-9e46-fcf68af8d429",
   "metadata": {},
   "outputs": [
    {
     "name": "stdout",
     "output_type": "stream",
     "text": [
      "356353880709.5 235275397312.5 166327981392.0 7498.01\n",
      "                 ins           cyc        refcyc       joules         tail  \\\n",
      "qps                                                                          \n",
      "100000  3.125580e+11  5.166675e+11  2.994718e+11  5612.455000   199.750000   \n",
      "200000  6.049396e+11  9.316135e+11  6.404469e+11  6038.150000   213.750000   \n",
      "300000  8.864342e+11  1.334926e+12  9.786166e+11  6421.320000   250.350000   \n",
      "400000  1.157557e+12  1.717683e+12  1.295515e+12  6798.975000   274.300000   \n",
      "500000  1.421570e+12  2.094551e+12  1.606779e+12  7723.240000   295.566667   \n",
      "600000  1.676137e+12  2.466416e+12  1.914524e+12  8079.726667   368.066667   \n",
      "700000  1.921867e+12  2.829724e+12  2.215803e+12  8365.896667   503.200000   \n",
      "800000  2.158744e+12  3.183818e+12  2.508580e+12  8594.013333  1745.800000   \n",
      "\n",
      "             ipc     qps  kqps         type       watts          rpj  \n",
      "qps                                                                   \n",
      "100000  1.043697  100000   100  Linux-Node3  187.081833   534.525444  \n",
      "200000  0.944559  200000   200  Linux-Node3  201.271667   993.681840  \n",
      "300000  0.905803  300000   300  Linux-Node3  214.044000  1401.580983  \n",
      "400000  0.893511  400000   400  Linux-Node3  226.632500  1764.971926  \n",
      "500000  0.884733  500000   500  Linux-Node3  257.441333  1942.190065  \n",
      "600000  0.875485  600000   600  Linux-Node3  269.324222  2227.798135  \n",
      "700000  0.867346  700000   700  Linux-Node3  278.863222  2510.191177  \n",
      "800000  0.860544  800000   800  Linux-Node3  286.467111  2792.641699  \n",
      "\n",
      "Largest error in dflinux_sm220utd was 1.49% of mean\n"
     ]
    },
    {
     "name": "stderr",
     "output_type": "stream",
     "text": [
      "/tmp/ipykernel_6660/3342916664.py:79: FutureWarning: Calling float on a single element Series is deprecated and will raise a TypeError in the future. Use float(ser.iloc[0]) instead\n",
      "  meanm=round(float(dflinux_sm220u[(dflinux_sm220u['qps'] == mqps)][metric]), 2)\n",
      "/tmp/ipykernel_6660/3342916664.py:80: FutureWarning: Calling float on a single element Series is deprecated and will raise a TypeError in the future. Use float(ser.iloc[0]) instead\n",
      "  stdm=round(float(dflinux_sm220ustd[(dflinux_sm220ustd['qps'] == mqps)][metric]),2)\n"
     ]
    }
   ],
   "source": [
    "## Overheads\n",
    "resetdict()\n",
    "ins_oh_arr=[]\n",
    "cyc_oh_arr=[]\n",
    "refcyc_oh_arr=[]\n",
    "joules_oh_arr=[]\n",
    "\n",
    "ins_oh=0\n",
    "cyc_oh=0\n",
    "refcyc_oh=0\n",
    "joules_oh=0.0\n",
    "for i in range (0, 2):    \n",
    "    with open(f\"sm220u/linux_silo/PerfStat.Ins.Overhead.linux_silo_iter{i}\") as file:\n",
    "        for line in file:      \n",
    "            if 'instructions' in line:\n",
    "                ins_oh_arr.append(int((line.strip().split(','))[0]))\n",
    "            elif \"ref-cycles\" in line:\n",
    "                refcyc_oh_arr.append(int((line.strip().split(','))[0]))\n",
    "            elif 'cycles' in line:\n",
    "                cyc_oh_arr.append(int((line.strip().split(','))[0]))\n",
    "    with open(f\"sm220u/linux_silo/PerfStat.Joules.Overhead.linux_silo_iter{i}\") as file:\n",
    "        for line in file:\n",
    "            if 'Joules' in line:\n",
    "                joules_oh_arr.append(float((line.strip().split(','))[0]))\n",
    "ins_oh = np.mean(ins_oh_arr)\n",
    "cyc_oh = np.mean(cyc_oh_arr)\n",
    "refcyc_oh = np.mean(refcyc_oh_arr)\n",
    "joules_oh = np.mean(joules_oh_arr)\n",
    "            \n",
    "print(ins_oh, cyc_oh, refcyc_oh, joules_oh)\n",
    "for mqps in range(100000, 1000000, 100000):\n",
    "    for iter in range(0, 5):\n",
    "        if os.path.exists(f\"sm220u/linux_silo/PerfStat.Ins.linux_silo_mqps{mqps}_iter{iter}\") and os.path.exists(f\"sm220u/linux_silo/PerfStat.Joules.linux_silo_mqps{mqps}_iter{iter}\"):\n",
    "            ins=0\n",
    "            cyc=0\n",
    "            refcyc=0\n",
    "            joules=0.0\n",
    "            with open(f\"sm220u/linux_silo/PerfStat.Ins.linux_silo_mqps{mqps}_iter{iter}\") as file:\n",
    "                for line in file:  \n",
    "                    if 'instructions' in line:\n",
    "                        ins = int((line.strip().split(','))[0]) - ins_oh\n",
    "                    elif \"ref-cycles\" in line:\n",
    "                        refcyc = int((line.strip().split(','))[0]) - cyc_oh\n",
    "                    elif 'cycles' in line:\n",
    "                        cyc = int((line.strip().split(','))[0]) - refcyc_oh\n",
    "            with open(f\"sm220u/linux_silo/PerfStat.Joules.linux_silo_mqps{mqps}_iter{iter}\") as file:\n",
    "                for line in file: \n",
    "                    if 'Joules' in line:\n",
    "                        joules = float((line.strip().split(','))[0]) - joules_oh\n",
    "            tail = parseLat(f\"sm220u/linux_silo/linux_silo_mqps{mqps}_iter{iter}.out\")\n",
    "            df_dict['qps'].append(mqps)\n",
    "            df_dict['i'].append(iter)\n",
    "            df_dict['ins'].append(ins)\n",
    "            df_dict['cyc'].append(cyc)\n",
    "            df_dict['refcyc'].append(refcyc)\n",
    "            df_dict['joules'].append(joules)\n",
    "            df_dict['tail'].append(tail)\n",
    "\n",
    "df = pd.DataFrame(df_dict)\n",
    "qpss=df['qps'].unique()\n",
    "dflinux_sm220u = df.groupby(['qps']).mean()\n",
    "dflinux_sm220u['ipc'] = dflinux_sm220u['ins']/dflinux_sm220u['refcyc']\n",
    "dflinux_sm220u=dflinux_sm220u.drop(columns=['i'])\n",
    "dflinux_sm220u['qps'] = qpss\n",
    "dflinux_sm220u['kqps']=[int(x / 1000) for x in qpss]\n",
    "dflinux_sm220u['type']='Linux-Node3'\n",
    "dflinux_sm220u['watts'] = dflinux_sm220u['joules']/30.0\n",
    "dflinux_sm220u['rpj'] = dflinux_sm220u['qps']/dflinux_sm220u['watts']\n",
    "print(dflinux_sm220u)\n",
    "\n",
    "dflinux_sm220ustd = df.groupby(['qps']).std()\n",
    "dflinux_sm220ustd['qps']=qpss\n",
    "maxerr=0.0\n",
    "print(\"\")\n",
    "for mqps in range(100000, 900000, 100000):\n",
    "    for metric in ['ins', 'cyc', 'refcyc', 'joules']:\n",
    "        #print(dflinux_sm220u[(dflinux_sm220u['qps'] == mqps)])\n",
    "        \n",
    "        meanm=round(float(dflinux_sm220u[(dflinux_sm220u['qps'] == mqps)][metric]), 2)\n",
    "        stdm=round(float(dflinux_sm220ustd[(dflinux_sm220ustd['qps'] == mqps)][metric]),2)\n",
    "        #print(mqps, metric, meanm, stdm, round((stdm/meanm)*100.0, 2))\n",
    "        maxerr=max(maxerr, round((stdm/meanm)*100.0, 2))\n",
    "print(f\"Largest error in dflinux_sm220utd was {maxerr}% of mean\")\n"
   ]
  },
  {
   "cell_type": "code",
   "execution_count": 9,
   "id": "e16561c2-c7aa-456e-bd8d-d4e957d3762e",
   "metadata": {},
   "outputs": [
    {
     "data": {
      "image/png": "[encoded data removed]",
      "text/plain": [
       "<Figure size 640x480 with 1 Axes>"
      ]
     },
     "metadata": {},
     "output_type": "display_data"
    }
   ],
   "source": [
    "fs=16\n",
    "plt.rc('axes', labelsize=fs)    # fontsize of the x and y labels\n",
    "plt.rc('xtick', labelsize=fs)    # fontsize of the tick labels\n",
    "plt.rc('ytick', labelsize=fs)    # fontsize of the tick labels\n",
    "\n",
    "# Plot 99 tail\n",
    "for df in [dfebbrt, dflinux_c220g1, dflinux_c220g5, dflinux_sm220u]:\n",
    "    plt.plot(df['kqps'].values, df['tail'].values, marker=ms[str(df['type'].unique()[0])], markersize=10, ls='-', label=str(df['type'].unique()[0]))\n",
    "plt.axhline(y = 500, color = 'grey', linestyle = '--', label='SLO') \n",
    "plt.xlabel(\"Throughput (KRPS)\", fontsize=fs)\n",
    "plt.ylabel(\"Latency (us)\", fontsize=fs)\n",
    "plt.ylim(bottom=0, top=1000)\n",
    "plt.grid()\n",
    "plt.legend(ncol=2, fontsize=15, loc=\"upper left\")\n",
    "plt.tight_layout()\n",
    "plt.savefig(\"silo_latency.pdf\")\n",
    "#plt.show()\n"
   ]
  },
  {
   "cell_type": "code",
   "execution_count": 16,
   "id": "f08aff13-f106-4ec1-a020-3e0dbe7b3076",
   "metadata": {},
   "outputs": [
    {
     "data": {
      "image/png": "[encoded data removed]",
      "text/plain": [
       "<Figure size 432x288 with 1 Axes>"
      ]
     },
     "metadata": {
      "needs_background": "light"
     },
     "output_type": "display_data"
    }
   ],
   "source": [
    "fs=16\n",
    "plt.rc('axes', labelsize=fs)    # fontsize of the x and y labels\n",
    "plt.rc('xtick', labelsize=fs)    # fontsize of the tick labels\n",
    "plt.rc('ytick', labelsize=fs)    # fontsize of the tick labels\n",
    "\n",
    "for df in [dfebbrt, dflinux_c220g1, dflinux_c220g5, dflinux_sm220u]:\n",
    "    plt.plot(df['kqps'][:-1].values, df['watts'][:-1].values, marker=ms[str(df['type'].unique()[0])], markersize=10, ls='-', label=str(df['type'].unique()[0]))\n",
    "plt.xlabel(\"Throughput (KRPS)\", fontsize=fs)\n",
    "plt.ylabel(\"Power (W)\", fontsize=fs)\n",
    "plt.ylim(bottom=0, top=300)\n",
    "plt.grid()\n",
    "#plt.legend(ncols=1, fontsize=fs, loc='lower right')\n",
    "plt.tight_layout()\n",
    "plt.savefig(\"silo_joules.pdf\")\n",
    "\n",
    "#plt.show()"
   ]
  },
  {
   "cell_type": "code",
   "execution_count": 17,
   "id": "fe474926-e88b-42d8-8fa6-ca656f4000ef",
   "metadata": {},
   "outputs": [
    {
     "data": {
      "image/png": "[encoded data removed]",
      "text/plain": [
       "<Figure size 432x288 with 1 Axes>"
      ]
     },
     "metadata": {
      "needs_background": "light"
     },
     "output_type": "display_data"
    }
   ],
   "source": [
    "fs=16\n",
    "plt.rc('axes', labelsize=fs)    # fontsize of the x and y labels\n",
    "plt.rc('xtick', labelsize=fs)    # fontsize of the tick labels\n",
    "plt.rc('ytick', labelsize=fs)    # fontsize of the tick labels\n",
    "\n",
    "for df in [dfebbrt, dflinux_c220g1, dflinux_c220g5, dflinux_sm220u]:\n",
    "    plt.plot(df['kqps'][:-1].values, df['ins'][:-1].values, marker=ms[str(df['type'].unique()[0])], markersize=10, ls='-', label=str(df['type'].unique()[0]))\n",
    "plt.xlabel(\"Throughput (KRPS)\", fontsize=fs)\n",
    "plt.ylabel(\"Instructions\", fontsize=fs)\n",
    "plt.ylim(bottom=0, top=2000000000000)\n",
    "plt.grid()\n",
    "#plt.legend(ncols=1, fontsize=fs)\n",
    "plt.tight_layout()\n",
    "plt.savefig(\"silo_instructions.pdf\")\n"
   ]
  },
  {
   "cell_type": "code",
   "execution_count": 18,
   "id": "cba3e8a6-ca58-4edb-b65d-cd6a4a2fd2d8",
   "metadata": {},
   "outputs": [
    {
     "name": "stdout",
     "output_type": "stream",
     "text": [
      "['EbbRT-Node1']\n",
      "                 ins      watts          rpj         tail\n",
      "qps                                                      \n",
      "100000  2.260118e+11  60.072778  1664.647511   200.766667\n",
      "200000  4.506124e+11  66.974778  2986.198785   241.800000\n",
      "300000  6.757110e+11  75.302444  3983.934416   302.800000\n",
      "400000  9.009332e+11  81.704444  4895.694509   431.000000\n",
      "500000  1.125656e+12  88.096667  5675.583639  1067.300000\n",
      "*****************************\n",
      "\n",
      "['Linux-Node1']\n",
      "                 ins     watts          rpj     tail\n",
      "qps                                                 \n",
      "100000  2.908164e+11  66.92900  1494.120635  295.625\n",
      "200000  5.478447e+11  80.98825  2469.494032  370.475\n",
      "300000  7.919115e+11  90.83600  3302.655335  712.775\n",
      "*****************************\n",
      "\n",
      "['Linux-Node2']\n",
      "                 ins       watts          rpj    tail\n",
      "qps                                                  \n",
      "100000  2.908098e+11   89.911167  1112.208902  297.65\n",
      "200000  5.490699e+11  102.138500  1958.125486  383.80\n",
      "300000  7.914593e+11  112.946333  2656.128722  585.80\n",
      "*****************************\n",
      "\n",
      "['Linux-Node3']\n",
      "                 ins       watts          rpj         tail\n",
      "qps                                                       \n",
      "100000  3.125580e+11  187.081833   534.525444   199.750000\n",
      "200000  6.049396e+11  201.271667   993.681840   213.750000\n",
      "300000  8.864342e+11  214.044000  1401.580983   250.350000\n",
      "400000  1.157557e+12  226.632500  1764.971926   274.300000\n",
      "500000  1.421570e+12  257.441333  1942.190065   295.566667\n",
      "600000  1.676137e+12  269.324222  2227.798135   368.066667\n",
      "700000  1.921867e+12  278.863222  2510.191177   503.200000\n",
      "800000  2.158744e+12  286.467111  2792.641699  1745.800000\n",
      "*****************************\n",
      "\n"
     ]
    }
   ],
   "source": [
    "for df in [dfebbrt, dflinux_c220g1, dflinux_c220g5, dflinux_sm220u]:\n",
    "    print(df['type'].unique())\n",
    "    print(df[['ins', 'watts', 'rpj', 'tail']])\n",
    "    print('*****************************')\n",
    "    print(\"\")"
   ]
  },
  {
   "cell_type": "code",
   "execution_count": null,
   "id": "14587ab1",
   "metadata": {},
   "outputs": [],
   "source": []
  },
  {
   "cell_type": "code",
   "execution_count": 11,
   "id": "6308feb3-deea-40e7-83c1-65b72716ae57",
   "metadata": {},
   "outputs": [
    {
     "name": "stdout",
     "output_type": "stream",
     "text": [
      "               type     qps      watts        tail\n",
      "qps                                               \n",
      "100000  EbbRT-Node1  100000  60.072778  200.766667\n",
      "200000  EbbRT-Node1  200000  66.974778  241.800000\n",
      "300000  EbbRT-Node1  300000  75.302444  302.800000\n",
      "400000  EbbRT-Node1  400000  81.704444  431.000000\n",
      "*****************************\n",
      "\n",
      "               type     qps     watts     tail\n",
      "qps                                           \n",
      "100000  Linux-Node1  100000  66.92900  295.625\n",
      "200000  Linux-Node1  200000  80.98825  370.475\n",
      "*****************************\n",
      "\n",
      "               type     qps       watts    tail\n",
      "qps                                            \n",
      "100000  Linux-Node2  100000   89.911167  297.65\n",
      "200000  Linux-Node2  200000  102.138500  383.80\n",
      "*****************************\n",
      "\n",
      "               type     qps       watts        tail\n",
      "qps                                                \n",
      "100000  Linux-Node3  100000  187.081833  199.750000\n",
      "200000  Linux-Node3  200000  201.271667  213.750000\n",
      "300000  Linux-Node3  300000  214.044000  250.350000\n",
      "400000  Linux-Node3  400000  226.632500  274.300000\n",
      "500000  Linux-Node3  500000  257.441333  295.566667\n",
      "600000  Linux-Node3  600000  269.324222  368.066667\n",
      "*****************************\n",
      "\n"
     ]
    }
   ],
   "source": [
    "for df in [dfebbrt, dflinux_c220g1, dflinux_c220g5, dflinux_sm220u]:\n",
    "    ndf = df[df['tail'] < 500.0]\n",
    "    print(ndf[['type', 'qps', 'watts', 'tail']])\n",
    "    print('*****************************')\n",
    "    print(\"\")"
   ]
  },
  {
   "cell_type": "code",
   "execution_count": 12,
   "id": "d26b2d96-8aa9-4c0b-ac3e-d0a014f4ec29",
   "metadata": {},
   "outputs": [],
   "source": [
    "# --- SILO -- numbers used for the following analysis @ peak load\n",
    "# L-node1 : 200 KQPS,  80.99 Watts, 118.4 kg CO2 \n",
    "# L-node2: 200 KQPS, 102.14 Watts, 152.9 kg CO2\n",
    "# L-node3: 600 KQPS, 269.32 Watts, 221.9 kg CO2\n",
    "# E-node1: 400 KQPS,  81.70 Watts, 118.4 kg CO2 "
   ]
  },
  {
   "cell_type": "code",
   "execution_count": 20,
   "id": "41ba478d-ae14-445d-b47b-a61b927b5275",
   "metadata": {},
   "outputs": [
    {
     "name": "stdout",
     "output_type": "stream",
     "text": [
      "L-node1 CCI = 4.69 mg CO2/Request\n"
     ]
    }
   ],
   "source": [
    "# L-node1\n",
    "CM = 0\n",
    "CI = 277300/998280000.0 # mg CO2/J\n",
    "CC = CI * 81.70\n",
    "CN = CI * (1250000000) * 2.7\n",
    "ops = 200000\n",
    "print(f\"L-node1 CCI = {round((CM + (CC+CN))/ops, 2)} mg CO2/Request\")"
   ]
  },
  {
   "cell_type": "code",
   "execution_count": 18,
   "id": "1631c2b6-c69a-4e47-b7e2-9fc425360b72",
   "metadata": {},
   "outputs": [
    {
     "name": "stdout",
     "output_type": "stream",
     "text": [
      "L-node2 CCI = 5.45 mg CO2/Request\n"
     ]
    }
   ],
   "source": [
    "# L-node2\n",
    "CM = 152900\n",
    "CI = 277300/998280000.0 # mg CO2/J\n",
    "CC = CI * 102.14\n",
    "CN = CI * (1250000000) * 2.7\n",
    "ops = 200000\n",
    "print(f\"L-node2 CCI = {round((CM + (CC+CN))/ops, 2)} mg CO2/Request\")"
   ]
  },
  {
   "cell_type": "code",
   "execution_count": 19,
   "id": "d96ee429-fcf1-4f6f-a05c-8bd4b0b990c2",
   "metadata": {},
   "outputs": [
    {
     "name": "stdout",
     "output_type": "stream",
     "text": [
      "L-node3 CCI = 6.62 mg CO2/Request\n"
     ]
    }
   ],
   "source": [
    "# L-node3\n",
    "CM = 221900\n",
    "CI = 277300/998280000.0 # mg CO2/J\n",
    "CC = CI * 269.32\n",
    "CN = CI * (5000000000) * 2.7\n",
    "ops = 600000\n",
    "print(f\"L-node3 CCI = {round((CM + (CC+CN))/ops, 2)} mg CO2/Request\")"
   ]
  },
  {
   "cell_type": "code",
   "execution_count": 21,
   "id": "d50f2c7c-fb85-4f83-a334-4f3c083adb1b",
   "metadata": {},
   "outputs": [
    {
     "name": "stdout",
     "output_type": "stream",
     "text": [
      "L-node1 CCI = 2.34 mg CO2/Request\n"
     ]
    }
   ],
   "source": [
    "# E-node1\n",
    "CM = 0\n",
    "CI = 277300/998280000.0 # mg CO2/J\n",
    "CC = CI * 80.99\n",
    "CN = CI * (1250000000) * 2.7\n",
    "ops = 400000\n",
    "print(f\"L-node1 CCI = {round((CM + (CC+CN))/ops, 2)} mg CO2/Request\")"
   ]
  },
  {
   "cell_type": "code",
   "execution_count": 52,
   "id": "9303455f-c80b-45b6-b226-cf0c7d0b59e5",
   "metadata": {},
   "outputs": [
    {
     "data": {
      "image/png": "[encoded data removed]",
      "text/plain": [
       "<Figure size 640x480 with 1 Axes>"
      ]
     },
     "metadata": {},
     "output_type": "display_data"
    }
   ],
   "source": [
    "fs=24\n",
    "plt.rc('axes', labelsize=fs)    # fontsize of the x and y labels\n",
    "plt.rc('xtick', labelsize=fs)    # fontsize of the tick labels\n",
    "plt.rc('ytick', labelsize=fs)    # fontsize of the tick labels\n",
    "\n",
    "plt.plot(np.arange(0, 60), np.full(60, 2.34), color='blue', ls='-', linewidth=8, label='EbbRT-Node1')\n",
    "plt.plot(np.arange(0, 60), np.full(60, 4.69), color='orange', ls='--', linewidth=8, label='Linux-Node1')\n",
    "\n",
    "arry=[]\n",
    "CM = 152900\n",
    "for i in range(0, 60):\n",
    "    CM = CM - (CM/5)\n",
    "    CI = 277300/998280000.0 # mg CO2/J\n",
    "    CC = CI * 102.14\n",
    "    CN = CI * (1250000000) * 2.7\n",
    "    ops = 200000\n",
    "    CCI = (CM/ops) + ((CC+CN)/ops)\n",
    "    arry.append(round(CCI, 2))\n",
    "plt.plot(np.arange(0, len(arry)), arry, color='green', ls='-.', linewidth=8, label='Linux-Node2')\n",
    "    \n",
    "#plt.axhline(y = 1.09, color='green', linestyle = '-.', linewidth=8, label='Linux-Node2') \n",
    "#plt.axhline(y = 2.48, color='red', linestyle = ':', linewidth=8, label='Linux-Node3') \n",
    "\n",
    "arry=[]\n",
    "CM = 221900\n",
    "for i in range(0, 60):\n",
    "    CM = CM - (CM/5)\n",
    "    CI = 277300/998280000.0 # mg CO2/J\n",
    "    CC = CI * 269.32\n",
    "    CN = CI * (5000000000) * 2.7\n",
    "    ops = 600000\n",
    "    arry.append(round((CM + (CC+CN))/ops, 2))\n",
    "plt.plot(np.arange(0, len(arry)), arry, color='red', ls=':', linewidth=8, label='Linux-Node3')\n",
    "\n",
    "\"\"\"\n",
    "plt.axhline(y = 2.34, color='blue', linestyle = '-', linewidth=8, label='EbbRT-Node1') \n",
    "plt.axhline(y = 4.69, color='orange', linestyle = '--', linewidth=8, label='Linux-Node1') \n",
    "plt.axhline(y = 5.45, color='green', linestyle = '-.', linewidth=8, label='Linux-Node2') \n",
    "plt.axhline(y = 6.62, color='red', linestyle = ':', linewidth=8, label='Linux-Node3') \n",
    "\n",
    "\"\"\"\n",
    "plt.xlabel(\"Lifetime (months)\", fontsize=fs)\n",
    "plt.ylabel(\"CCI (mgCO\\u2082/Request)\",  fontsize=fs)\n",
    "plt.xticks(np.arange(0, 60, step=10))\n",
    "plt.yticks(np.arange(0, 11, step=2))\n",
    "plt.grid()\n",
    "#plt.legend(ncol=2, fontsize=17, loc=\"upper left\")\n",
    "plt.ylim(bottom=0, top=8)\n",
    "plt.tight_layout()\n",
    "plt.savefig(\"silo_cci.pdf\")\n"
   ]
  },
  {
   "cell_type": "code",
   "execution_count": null,
   "id": "c95b8fab-e033-4412-a83b-3d00741fedfa",
   "metadata": {},
   "outputs": [],
   "source": []
  }
 ],
 "metadata": {
  "kernelspec": {
   "display_name": "Python 3 (ipykernel)",
   "language": "python",
   "name": "python3"
  },
  "language_info": {
   "codemirror_mode": {
    "name": "ipython",
    "version": 3
   },
   "file_extension": ".py",
   "mimetype": "text/x-python",
   "name": "python",
   "nbconvert_exporter": "python",
   "pygments_lexer": "ipython3",
   "version": "3.10.12"
  }
 },
 "nbformat": 4,
 "nbformat_minor": 5
}
