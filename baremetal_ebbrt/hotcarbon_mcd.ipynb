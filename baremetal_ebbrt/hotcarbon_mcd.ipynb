{
 "cells": [
  {
   "cell_type": "code",
   "execution_count": 47,
   "id": "31f4d802-4455-4248-bacb-ca49faf2572c",
   "metadata": {},
   "outputs": [],
   "source": [
    "import pandas as pd\n",
    "import numpy as np\n",
    "import argparse\n",
    "import itertools\n",
    "import matplotlib.pyplot as plt\n",
    "\n",
    "import re\n",
    "import os\n",
    "from os import path\n",
    "import sys\n",
    "import time"
   ]
  },
  {
   "cell_type": "code",
   "execution_count": 28,
   "id": "52fa99d4-bfd8-4f9c-ae14-ac8f23aaf19d",
   "metadata": {},
   "outputs": [],
   "source": [
    "ms= {\n",
    "    'EbbRT-Node1': 'v',\n",
    "    'Linux-Node1': 'x',\n",
    "    'Linux-Node2': '*',\n",
    "    'Linux-Node3': 'o',\n",
    "}\n",
    "\n",
    "df_dict = {\n",
    "    'qps': [],\n",
    "    'i' : [],\n",
    "    'ins': [],\n",
    "    'cyc': [],\n",
    "    'refcyc': [],\n",
    "    'joules': [],\n",
    "    'tail': [],\n",
    "}\n",
    "\n",
    "def resetdict():\n",
    "    for key in df_dict:\n",
    "        df_dict[key] = []\n",
    "\n",
    "def parseLat(s):\n",
    "    with open(s) as file:\n",
    "        for line in file:\n",
    "            #print(line.strip())\n",
    "            if 'read' in line:\n",
    "                return float((line.strip().split())[9])"
   ]
  },
  {
   "cell_type": "markdown",
   "id": "0c08e923-de42-49c6-9d94-2332acf39caa",
   "metadata": {},
   "source": [
    "## EbbRT C220G1"
   ]
  },
  {
   "cell_type": "code",
   "execution_count": 30,
   "id": "3cf76c5a-6ab5-4bb7-8320-8c03ef1a809c",
   "metadata": {},
   "outputs": [
    {
     "name": "stdout",
     "output_type": "stream",
     "text": [
      "                  ins           cyc        refcyc       joules      tail  \\\n",
      "qps                                                                        \n",
      "200000   4.777431e+10  1.154030e+11  1.194927e+11  1605.865000    96.225   \n",
      "400000   9.507178e+10  2.118485e+11  2.044379e+11  1736.340000    96.125   \n",
      "600000   1.422908e+11  3.022215e+11  2.843202e+11  1771.232500    96.125   \n",
      "800000   1.893191e+11  3.853599e+11  3.584828e+11  1860.865000    95.900   \n",
      "1000000  2.363764e+11  4.638384e+11  4.294849e+11  1947.627500    96.050   \n",
      "1200000  2.836647e+11  5.395560e+11  4.986063e+11  1975.082500    96.200   \n",
      "1400000  3.303890e+11  6.078982e+11  5.613737e+11  2077.532500    96.100   \n",
      "1600000  3.778211e+11  6.791168e+11  6.269814e+11  2152.235000    96.200   \n",
      "1800000  4.251856e+11  7.451455e+11  6.878753e+11  2200.093333    96.300   \n",
      "2000000  4.725948e+11  8.104864e+11  7.481646e+11  2253.220000    96.550   \n",
      "2200000  5.206181e+11  8.726308e+11  8.055277e+11  2329.455000    98.700   \n",
      "2400000  5.693584e+11  9.392143e+11  8.669859e+11  2405.050000   100.350   \n",
      "2600000  6.190667e+11  1.003043e+12  9.259073e+11  2442.650000   105.400   \n",
      "2800000  6.701292e+11  1.070305e+12  9.879988e+11  2507.235000   146.700   \n",
      "3000000  7.270068e+11  1.158227e+12  1.069158e+12  2630.650000  1576.000   \n",
      "\n",
      "              ipc      watts      qps  kqps         type  \n",
      "qps                                                       \n",
      "200000   0.399810  53.528833   200000   200  EbbRT-Node1  \n",
      "400000   0.465040  57.878000   400000   400  EbbRT-Node1  \n",
      "600000   0.500459  59.041083   600000   600  EbbRT-Node1  \n",
      "800000   0.528112  62.028833   800000   800  EbbRT-Node1  \n",
      "1000000  0.550372  64.920917  1000000  1000  EbbRT-Node1  \n",
      "1200000  0.568915  65.836083  1200000  1200  EbbRT-Node1  \n",
      "1400000  0.588537  69.251083  1400000  1400  EbbRT-Node1  \n",
      "1600000  0.602603  71.741167  1600000  1600  EbbRT-Node1  \n",
      "1800000  0.618114  73.336444  1800000  1800  EbbRT-Node1  \n",
      "2000000  0.631672  75.107333  2000000  2000  EbbRT-Node1  \n",
      "2200000  0.646307  77.648500  2200000  2200  EbbRT-Node1  \n",
      "2400000  0.656710  80.168333  2400000  2400  EbbRT-Node1  \n",
      "2600000  0.668605  81.421667  2600000  2600  EbbRT-Node1  \n",
      "2800000  0.678269  83.574500  2800000  2800  EbbRT-Node1  \n",
      "3000000  0.679980  87.688333  3000000  3000  EbbRT-Node1  \n"
     ]
    }
   ],
   "source": [
    "qps=0\n",
    "i=0\n",
    "#ype='ebbrt_c220g1'\n",
    "with open(\"c220g1/mcd/results.md\") as file:\n",
    "    for line in file:        \n",
    "        ins=0\n",
    "        cyc=0\n",
    "        refcyc=0\n",
    "        joules=0.0\n",
    "        if \"MQPS\" in line.strip():\n",
    "            qps = int(line.strip().split(' ')[2])\n",
    "            i = 0\n",
    "        elif \"[STATS ALL]\" in line.strip():            \n",
    "            tmp = line.strip().split(' ')\n",
    "            #print(tmp)\n",
    "            ins = int(tmp[2])\n",
    "            cyc = int(tmp[3])\n",
    "            refcyc = int(tmp[4])\n",
    "            joules = float(tmp[5])\n",
    "\n",
    "            #df_dict['type'].append(type)\n",
    "            df_dict['qps'].append(qps)\n",
    "            df_dict['i'].append(i)\n",
    "            df_dict['ins'].append(ins)\n",
    "            df_dict['cyc'].append(cyc)\n",
    "            df_dict['refcyc'].append(refcyc)\n",
    "            df_dict['joules'].append(joules)\n",
    "            df_dict['tail'].append(parseLat(f\"c220g1/mcd/ebbrtbm_qps{qps}_iter{i}.out\"))\n",
    "            i += 1\n",
    "df = pd.DataFrame(df_dict)\n",
    "qpss=df['qps'].unique()\n",
    "dfebbrt = df.groupby(['qps']).mean()\n",
    "dfebbrt['ipc'] = dfebbrt['ins']/dfebbrt['refcyc']\n",
    "dfebbrt['watts'] = dfebbrt['joules']/30.0\n",
    "dfebbrt=dfebbrt.drop(columns=['i'])\n",
    "dfebbrt['qps'] = qpss\n",
    "dfebbrt['kqps']=[int(x / 1000) for x in qpss]\n",
    "dfebbrt['type']='EbbRT-Node1'\n",
    "print(dfebbrt)"
   ]
  },
  {
   "cell_type": "markdown",
   "id": "852696fb-76db-4b87-ae60-dfedaca60e01",
   "metadata": {},
   "source": [
    "## Validate noise in EbbRT"
   ]
  },
  {
   "cell_type": "code",
   "execution_count": 31,
   "id": "c61ef76f-9559-482d-87e8-fea1ec81f36e",
   "metadata": {},
   "outputs": [
    {
     "name": "stdout",
     "output_type": "stream",
     "text": [
      "Largest error in EbbRT was 2.61% of mean\n"
     ]
    },
    {
     "name": "stderr",
     "output_type": "stream",
     "text": [
      "/tmp/ipykernel_8497/3977835642.py:6: FutureWarning: Calling float on a single element Series is deprecated and will raise a TypeError in the future. Use float(ser.iloc[0]) instead\n",
      "  meanm=round(float(dfebbrt[(dfebbrt['qps'] == mqps)][metric]), 2)\n",
      "/tmp/ipykernel_8497/3977835642.py:7: FutureWarning: Calling float on a single element Series is deprecated and will raise a TypeError in the future. Use float(ser.iloc[0]) instead\n",
      "  stdm=round(float(dfebbrtstd[(dfebbrtstd['qps'] == mqps)][metric]),2)\n"
     ]
    }
   ],
   "source": [
    "dfebbrtstd = df.groupby(['qps']).std()\n",
    "dfebbrtstd['qps']=qpss\n",
    "maxerr=0.0\n",
    "for mqps in range(200000, 3000000, 200000):\n",
    "    for metric in ['ins', 'cyc', 'refcyc', 'joules']:\n",
    "        meanm=round(float(dfebbrt[(dfebbrt['qps'] == mqps)][metric]), 2)\n",
    "        stdm=round(float(dfebbrtstd[(dfebbrtstd['qps'] == mqps)][metric]),2)\n",
    "        #print(mqps, metric, round((stdm/meanm)*100.0, 2))\n",
    "        maxerr=max(maxerr, round((stdm/meanm)*100.0, 2))\n",
    "print(f\"Largest error in EbbRT was {maxerr}% of mean\")"
   ]
  },
  {
   "cell_type": "markdown",
   "id": "704c192c-dfff-451d-ae8a-7ec6faf978b9",
   "metadata": {},
   "source": [
    "\n",
    "## Linux C220G1"
   ]
  },
  {
   "cell_type": "code",
   "execution_count": 32,
   "id": "010cdc01-c7e0-4cb6-9b8a-c2dfc26189c4",
   "metadata": {},
   "outputs": [
    {
     "name": "stdout",
     "output_type": "stream",
     "text": [
      "8552732973.5 25807605024.25 29585660346.0 473.26750000000004\n"
     ]
    }
   ],
   "source": [
    "## Overheads\n",
    "resetdict()\n",
    "\n",
    "ins_oh_arr=[]\n",
    "cyc_oh_arr=[]\n",
    "refcyc_oh_arr=[]\n",
    "joules_oh_arr=[]\n",
    "\n",
    "ins_oh=0\n",
    "cyc_oh=0\n",
    "refcyc_oh=0\n",
    "joules_oh=0.0\n",
    "\n",
    "for i in range (0, 4):    \n",
    "    with open(f\"c220g1/linux_mcd/PerfStat.Overhead.iter{i}\") as file:\n",
    "        for line in file:      \n",
    "            if 'instructions' in line:\n",
    "                ins_oh_arr.append(int((line.strip().split(','))[0]))\n",
    "            elif \"ref-cycles\" in line:\n",
    "                refcyc_oh_arr.append(int((line.strip().split(','))[0]))\n",
    "            elif 'cycles' in line:\n",
    "                cyc_oh_arr.append(int((line.strip().split(','))[0]))\n",
    "            elif 'Joules' in line:\n",
    "                joules_oh_arr.append(float((line.strip().split(','))[0]))\n",
    "ins_oh = np.mean(ins_oh_arr)\n",
    "cyc_oh = np.mean(cyc_oh_arr)\n",
    "refcyc_oh = np.mean(refcyc_oh_arr)\n",
    "joules_oh = np.mean(joules_oh_arr)\n",
    "\n",
    "print(ins_oh, cyc_oh, refcyc_oh, joules_oh)\n",
    "#type='linux_c220g1'\n",
    "for mqps in range(200000, 1200000, 200000):\n",
    "    for iter in range(0, 5):\n",
    "        if os.path.exists(f\"c220g1/linux_mcd/PerfStat.linux_mcd_qps{mqps}_iter{iter}\"):\n",
    "            ins=0\n",
    "            cyc=0\n",
    "            refcyc=0\n",
    "            joules=0.0\n",
    "            with open(f\"c220g1/linux_mcd/PerfStat.linux_mcd_qps{mqps}_iter{iter}\") as file:\n",
    "                for line in file:  \n",
    "                    if 'instructions' in line:\n",
    "                        ins = int((line.strip().split(','))[0]) - ins_oh\n",
    "                    elif \"ref-cycles\" in line:\n",
    "                        refcyc = int((line.strip().split(','))[0]) - cyc_oh\n",
    "                    elif 'cycles' in line:\n",
    "                        cyc = int((line.strip().split(','))[0]) - refcyc_oh\n",
    "                    elif 'Joules' in line:\n",
    "                        joules = float((line.strip().split(','))[0]) - joules_oh\n",
    "            tail = parseLat(f\"c220g1/linux_mcd/linux_mcd_qps{mqps}_iter{iter}.out\")\n",
    "            #df_dict['type'].append(type)\n",
    "            df_dict['qps'].append(mqps)\n",
    "            df_dict['i'].append(iter)\n",
    "            df_dict['ins'].append(ins)\n",
    "            df_dict['cyc'].append(cyc)\n",
    "            df_dict['refcyc'].append(refcyc)\n",
    "            df_dict['joules'].append(joules)\n",
    "            df_dict['tail'].append(tail)\n"
   ]
  },
  {
   "cell_type": "code",
   "execution_count": 34,
   "id": "4d870296-8c35-45d6-b5a4-ccba549a3aae",
   "metadata": {},
   "outputs": [
    {
     "name": "stdout",
     "output_type": "stream",
     "text": [
      "                  ins           cyc        refcyc     joules      tail  \\\n",
      "qps                                                                      \n",
      "200000   2.396295e+11  4.821708e+11  4.556133e+11  1833.7625   115.350   \n",
      "400000   4.344078e+11  8.974446e+11  8.358215e+11  2190.0125   118.700   \n",
      "600000   5.955976e+11  1.294279e+12  1.202104e+12  2472.3025   145.350   \n",
      "800000   7.294787e+11  1.606924e+12  1.490834e+12  2660.8025   224.925   \n",
      "1000000  8.317961e+11  1.836587e+12  1.702763e+12  2786.5425  1156.775   \n",
      "\n",
      "              ipc      qps  kqps         type      watts  \n",
      "qps                                                       \n",
      "200000   0.525949   200000   200  Linux-Node1  61.125417  \n",
      "400000   0.519738   400000   400  Linux-Node1  73.000417  \n",
      "600000   0.495463   600000   600  Linux-Node1  82.410083  \n",
      "800000   0.489309   800000   800  Linux-Node1  88.693417  \n",
      "1000000  0.488498  1000000  1000  Linux-Node1  92.884750  \n"
     ]
    }
   ],
   "source": [
    "df = pd.DataFrame(df_dict)\n",
    "qpss=df['qps'].unique()\n",
    "dflinux_c220g1 = df.groupby(['qps']).mean()\n",
    "dflinux_c220g1['ipc'] = dflinux_c220g1['ins']/dflinux_c220g1['refcyc']\n",
    "dflinux_c220g1=dflinux_c220g1.drop(columns=['i'])\n",
    "dflinux_c220g1['qps'] = qpss\n",
    "dflinux_c220g1['kqps']=[int(x / 1000) for x in qpss]\n",
    "dflinux_c220g1['type']='Linux-Node1'\n",
    "dflinux_c220g1['watts'] = dflinux_c220g1['joules']/30.0\n",
    "print(dflinux_c220g1)\n"
   ]
  },
  {
   "cell_type": "markdown",
   "id": "610cce9f-8791-4306-b166-05add0cef3a9",
   "metadata": {},
   "source": [
    "## Validate noise in linux_c220g1"
   ]
  },
  {
   "cell_type": "code",
   "execution_count": 35,
   "id": "c24705fd-530a-409b-b8e5-05c42b2b21a9",
   "metadata": {},
   "outputs": [
    {
     "name": "stdout",
     "output_type": "stream",
     "text": [
      "Largest error in dflinux_c220g1 was 1.75% of mean\n"
     ]
    },
    {
     "name": "stderr",
     "output_type": "stream",
     "text": [
      "/tmp/ipykernel_8497/3100442987.py:6: FutureWarning: Calling float on a single element Series is deprecated and will raise a TypeError in the future. Use float(ser.iloc[0]) instead\n",
      "  meanm=round(float(dflinux_c220g1[(dflinux_c220g1['qps'] == mqps)][metric]), 2)\n",
      "/tmp/ipykernel_8497/3100442987.py:7: FutureWarning: Calling float on a single element Series is deprecated and will raise a TypeError in the future. Use float(ser.iloc[0]) instead\n",
      "  stdm=round(float(dflinux_c220g1std[(dflinux_c220g1std['qps'] == mqps)][metric]),2)\n"
     ]
    }
   ],
   "source": [
    "dflinux_c220g1std = df.groupby(['qps']).std()\n",
    "dflinux_c220g1std['qps']=qpss\n",
    "maxerr=0.0\n",
    "for mqps in range(200000, 1200000, 200000):\n",
    "    for metric in ['ins', 'cyc', 'refcyc', 'joules']:\n",
    "        meanm=round(float(dflinux_c220g1[(dflinux_c220g1['qps'] == mqps)][metric]), 2)\n",
    "        stdm=round(float(dflinux_c220g1std[(dflinux_c220g1std['qps'] == mqps)][metric]),2)\n",
    "        #print(mqps, metric, round((stdm/meanm)*100.0, 2))\n",
    "        maxerr=max(maxerr, round((stdm/meanm)*100.0, 2))\n",
    "print(f\"Largest error in dflinux_c220g1 was {maxerr}% of mean\")"
   ]
  },
  {
   "cell_type": "markdown",
   "id": "72d335c6-8b20-4bfc-b5da-3fb0cd9828c5",
   "metadata": {},
   "source": [
    "## Linux C220G5"
   ]
  },
  {
   "cell_type": "code",
   "execution_count": 36,
   "id": "9db52120-29dd-4e07-878c-27f4875d3a88",
   "metadata": {},
   "outputs": [
    {
     "name": "stdout",
     "output_type": "stream",
     "text": [
      "9154589549.5 16178511631.0 30781449864.0 797.595\n"
     ]
    }
   ],
   "source": [
    "## Overheads\n",
    "resetdict()\n",
    "\n",
    "ins_oh_arr=[]\n",
    "cyc_oh_arr=[]\n",
    "refcyc_oh_arr=[]\n",
    "joules_oh_arr=[]\n",
    "\n",
    "ins_oh=0\n",
    "cyc_oh=0\n",
    "refcyc_oh=0\n",
    "joules_oh=0.0\n",
    "\n",
    "for i in range (0, 4):    \n",
    "    with open(f\"c220g5/linux_mcd/PerfStat.Overhead.iter{i}\") as file:\n",
    "        for line in file:      \n",
    "            if 'instructions' in line:\n",
    "                ins_oh_arr.append(int((line.strip().split(','))[0]))\n",
    "            elif \"ref-cycles\" in line:\n",
    "                refcyc_oh_arr.append(int((line.strip().split(','))[0]))\n",
    "            elif 'cycles' in line:\n",
    "                cyc_oh_arr.append(int((line.strip().split(','))[0]))\n",
    "            elif 'Joules' in line:\n",
    "                joules_oh_arr.append(float((line.strip().split(','))[0]))\n",
    "ins_oh = np.mean(ins_oh_arr)\n",
    "cyc_oh = np.mean(cyc_oh_arr)\n",
    "refcyc_oh = np.mean(refcyc_oh_arr)\n",
    "joules_oh = np.mean(joules_oh_arr)\n",
    "\n",
    "print(ins_oh, cyc_oh, refcyc_oh, joules_oh)\n",
    "#type='linux_c220g5'\n",
    "for mqps in range(200000, 1400000, 200000):\n",
    "    for iter in range(0, 5):\n",
    "        if os.path.exists(f\"c220g5/linux_mcd/PerfStat.linux_mcd_qps{mqps}_iter{iter}\"):\n",
    "            ins=0\n",
    "            cyc=0\n",
    "            refcyc=0\n",
    "            joules=0.0\n",
    "            with open(f\"c220g5/linux_mcd/PerfStat.linux_mcd_qps{mqps}_iter{iter}\") as file:\n",
    "                for line in file:  \n",
    "                    if 'instructions' in line:\n",
    "                        ins = int((line.strip().split(','))[0]) - ins_oh\n",
    "                    elif \"ref-cycles\" in line:\n",
    "                        refcyc = int((line.strip().split(','))[0]) - cyc_oh\n",
    "                    elif 'cycles' in line:\n",
    "                        cyc = int((line.strip().split(','))[0]) - refcyc_oh\n",
    "                    elif 'Joules' in line:\n",
    "                        joules = float((line.strip().split(','))[0]) - joules_oh\n",
    "            tail = parseLat(f\"c220g5/linux_mcd/linux_mcd_qps{mqps}_iter{iter}.out\")\n",
    "            #df_dict['type'].append(type)\n",
    "            df_dict['qps'].append(mqps)\n",
    "            df_dict['i'].append(iter)\n",
    "            df_dict['ins'].append(ins)\n",
    "            df_dict['cyc'].append(cyc)\n",
    "            df_dict['refcyc'].append(refcyc)\n",
    "            df_dict['joules'].append(joules)\n",
    "            df_dict['tail'].append(tail)\n"
   ]
  },
  {
   "cell_type": "code",
   "execution_count": 38,
   "id": "8c6aa1a2-31a7-4cc8-acc8-b73c340cafe7",
   "metadata": {},
   "outputs": [
    {
     "name": "stdout",
     "output_type": "stream",
     "text": [
      "                  ins           cyc        refcyc     joules      tail  \\\n",
      "qps                                                                      \n",
      "200000   2.345799e+11  4.438587e+11  4.642638e+11  2440.2475   112.050   \n",
      "400000   4.274637e+11  8.685091e+11  7.959224e+11  2760.4925   113.025   \n",
      "600000   5.965455e+11  1.278444e+12  1.152519e+12  3091.4475   126.400   \n",
      "800000   7.404213e+11  1.656957e+12  1.485269e+12  3286.3700   165.500   \n",
      "1000000  8.497317e+11  1.976706e+12  1.767230e+12  3462.2425   332.625   \n",
      "1200000  9.262510e+11  2.236816e+12  1.995912e+12  3587.9375  1844.450   \n",
      "\n",
      "              ipc      qps  kqps         type       watts  \n",
      "qps                                                        \n",
      "200000   0.505273   200000   200  Linux-Node2   81.341583  \n",
      "400000   0.537067   400000   400  Linux-Node2   92.016417  \n",
      "600000   0.517602   600000   600  Linux-Node2  103.048250  \n",
      "800000   0.498510   800000   800  Linux-Node2  109.545667  \n",
      "1000000  0.480827  1000000  1000  Linux-Node2  115.408083  \n",
      "1200000  0.464074  1200000  1200  Linux-Node2  119.597917  \n",
      "Largest error in dflinux_c220g5 was 1.64% of mean\n"
     ]
    },
    {
     "name": "stderr",
     "output_type": "stream",
     "text": [
      "/tmp/ipykernel_8497/3026781897.py:19: FutureWarning: Calling float on a single element Series is deprecated and will raise a TypeError in the future. Use float(ser.iloc[0]) instead\n",
      "  meanm=round(float(dflinux_c220g5[(dflinux_c220g5['qps'] == mqps)][metric]), 2)\n",
      "/tmp/ipykernel_8497/3026781897.py:20: FutureWarning: Calling float on a single element Series is deprecated and will raise a TypeError in the future. Use float(ser.iloc[0]) instead\n",
      "  stdm=round(float(dflinux_c220g5std[(dflinux_c220g5std['qps'] == mqps)][metric]),2)\n"
     ]
    }
   ],
   "source": [
    "df = pd.DataFrame(df_dict)\n",
    "qpss=df['qps'].unique()\n",
    "dflinux_c220g5 = df.groupby(['qps']).mean()\n",
    "dflinux_c220g5['ipc'] = dflinux_c220g5['ins']/dflinux_c220g5['refcyc']\n",
    "dflinux_c220g5=dflinux_c220g5.drop(columns=['i'])\n",
    "dflinux_c220g5['qps'] = qpss\n",
    "dflinux_c220g5['kqps']=[int(x / 1000) for x in qpss]\n",
    "dflinux_c220g5['type']='Linux-Node2'\n",
    "dflinux_c220g5['watts'] = dflinux_c220g5['joules']/30.0\n",
    "\n",
    "print(dflinux_c220g5)\n",
    "\n",
    "## Validate noise in linux_c220g5\n",
    "dflinux_c220g5std = df.groupby(['qps']).std()\n",
    "dflinux_c220g5std['qps']=qpss\n",
    "maxerr=0.0\n",
    "for mqps in range(200000, 1400000, 200000):\n",
    "    for metric in ['ins', 'cyc', 'refcyc', 'joules']:\n",
    "        meanm=round(float(dflinux_c220g5[(dflinux_c220g5['qps'] == mqps)][metric]), 2)\n",
    "        stdm=round(float(dflinux_c220g5std[(dflinux_c220g5std['qps'] == mqps)][metric]),2)\n",
    "        #print(mqps, metric, round((stdm/meanm)*100.0, 2))\n",
    "        maxerr=max(maxerr, round((stdm/meanm)*100.0, 2))\n",
    "print(f\"Largest error in dflinux_c220g5 was {maxerr}% of mean\")"
   ]
  },
  {
   "cell_type": "markdown",
   "id": "4f9dce8a-fcfc-4777-b5bc-99fd3f1ccd02",
   "metadata": {},
   "source": [
    "## Linux sm220u"
   ]
  },
  {
   "cell_type": "code",
   "execution_count": 39,
   "id": "bf3c52d6-b9e0-467c-8040-46b80a6ba0c3",
   "metadata": {},
   "outputs": [
    {
     "name": "stdout",
     "output_type": "stream",
     "text": [
      "12272974035.5 18009374205.0 16088977368.0 2465.2675\n"
     ]
    }
   ],
   "source": [
    "## Overheads\n",
    "resetdict()\n",
    "\n",
    "ins_oh_arr=[]\n",
    "cyc_oh_arr=[]\n",
    "refcyc_oh_arr=[]\n",
    "joules_oh_arr=[]\n",
    "\n",
    "ins_oh=0\n",
    "cyc_oh=0\n",
    "refcyc_oh=0\n",
    "joules_oh=0.0\n",
    "\n",
    "for i in range (0, 4):    \n",
    "    with open(f\"sm220u/linux_mcd/PerfStat.Overhead.iter{i}\") as file:\n",
    "        for line in file:      \n",
    "            if 'instructions' in line:\n",
    "                ins_oh_arr.append(int((line.strip().split(','))[0]))\n",
    "            elif \"ref-cycles\" in line:\n",
    "                refcyc_oh_arr.append(int((line.strip().split(','))[0]))\n",
    "            elif 'cycles' in line:\n",
    "                cyc_oh_arr.append(int((line.strip().split(','))[0]))\n",
    "            elif 'Joules' in line:\n",
    "                joules_oh_arr.append(float((line.strip().split(','))[0]))\n",
    "ins_oh = np.mean(ins_oh_arr)\n",
    "cyc_oh = np.mean(cyc_oh_arr)\n",
    "refcyc_oh = np.mean(refcyc_oh_arr)\n",
    "joules_oh = np.mean(joules_oh_arr)\n",
    "\n",
    "print(ins_oh, cyc_oh, refcyc_oh, joules_oh)\n",
    "#type='linux_sm220u'\n",
    "for mqps in range(200000, 2000000, 200000):\n",
    "    for iter in range(0, 5):\n",
    "        if os.path.exists(f\"sm220u/linux_mcd/PerfStat.linux_mcd_qps{mqps}_iter{iter}\"):\n",
    "            ins=0\n",
    "            cyc=0\n",
    "            refcyc=0\n",
    "            joules=0.0\n",
    "            with open(f\"sm220u/linux_mcd/PerfStat.linux_mcd_qps{mqps}_iter{iter}\") as file:\n",
    "                for line in file:  \n",
    "                    if 'instructions' in line:\n",
    "                        ins = int((line.strip().split(','))[0]) - ins_oh\n",
    "                    elif \"ref-cycles\" in line:\n",
    "                        refcyc = int((line.strip().split(','))[0]) - cyc_oh\n",
    "                    elif 'cycles' in line:\n",
    "                        cyc = int((line.strip().split(','))[0]) - refcyc_oh\n",
    "                    elif 'Joules' in line:\n",
    "                        joules = float((line.strip().split(','))[0]) - joules_oh\n",
    "            tail = parseLat(f\"sm220u/linux_mcd/linux_mcd_qps{mqps}_iter{iter}.out\")\n",
    "            #df_dict['type'].append(type)\n",
    "            df_dict['qps'].append(mqps)\n",
    "            df_dict['i'].append(iter)\n",
    "            df_dict['ins'].append(ins)\n",
    "            df_dict['cyc'].append(cyc)\n",
    "            df_dict['refcyc'].append(refcyc)\n",
    "            df_dict['joules'].append(joules)\n",
    "            df_dict['tail'].append(tail)\n"
   ]
  },
  {
   "cell_type": "code",
   "execution_count": 40,
   "id": "1e8fb550-f159-47bb-b11f-7244aa2f7c75",
   "metadata": {},
   "outputs": [
    {
     "name": "stdout",
     "output_type": "stream",
     "text": [
      "                  ins           cyc        refcyc     joules      tail  \\\n",
      "qps                                                                      \n",
      "200000   2.820915e+11  4.581505e+11  3.735584e+11  5214.6425   127.350   \n",
      "400000   5.192688e+11  8.687092e+11  7.138838e+11  5566.3400   145.600   \n",
      "600000   7.401712e+11  1.269495e+12  1.046763e+12  5883.7900   175.050   \n",
      "800000   9.474439e+11  1.660782e+12  1.370976e+12  6189.0850   193.600   \n",
      "1000000  1.140180e+12  2.011575e+12  1.661364e+12  6459.6575   203.175   \n",
      "1200000  1.315075e+12  2.330477e+12  1.925283e+12  6679.8450   214.925   \n",
      "1400000  1.468599e+12  2.645898e+12  2.186365e+12  6892.5075   238.600   \n",
      "1600000  1.597888e+12  3.025271e+12  2.500314e+12  7104.0075   373.050   \n",
      "1800000  1.432263e+12  4.858083e+12  4.017073e+12  7299.7950  3023.325   \n",
      "\n",
      "              ipc      qps  kqps         type       watts  \n",
      "qps                                                        \n",
      "200000   0.755147   200000   200  Linux-Node3  173.821417  \n",
      "400000   0.727386   400000   400  Linux-Node3  185.544667  \n",
      "600000   0.707105   600000   600  Linux-Node3  196.126333  \n",
      "800000   0.691073   800000   800  Linux-Node3  206.302833  \n",
      "1000000  0.686291  1000000  1000  Linux-Node3  215.321917  \n",
      "1200000  0.683056  1200000  1200  Linux-Node3  222.661500  \n",
      "1400000  0.671708  1400000  1400  Linux-Node3  229.750250  \n",
      "1600000  0.639075  1600000  1600  Linux-Node3  236.800250  \n",
      "1800000  0.356544  1800000  1800  Linux-Node3  243.326500  \n",
      "Largest error in dflinux_sm220u was 0.99% of mean\n"
     ]
    },
    {
     "name": "stderr",
     "output_type": "stream",
     "text": [
      "/tmp/ipykernel_8497/4233260443.py:19: FutureWarning: Calling float on a single element Series is deprecated and will raise a TypeError in the future. Use float(ser.iloc[0]) instead\n",
      "  meanm=round(float(dflinux_sm220u[(dflinux_sm220u['qps'] == mqps)][metric]), 2)\n",
      "/tmp/ipykernel_8497/4233260443.py:20: FutureWarning: Calling float on a single element Series is deprecated and will raise a TypeError in the future. Use float(ser.iloc[0]) instead\n",
      "  stdm=round(float(dflinux_sm220ustd[(dflinux_sm220ustd['qps'] == mqps)][metric]),2)\n"
     ]
    }
   ],
   "source": [
    "df = pd.DataFrame(df_dict)\n",
    "qpss=df['qps'].unique()\n",
    "dflinux_sm220u = df.groupby(['qps']).mean()\n",
    "dflinux_sm220u['ipc'] = dflinux_sm220u['ins']/dflinux_sm220u['refcyc']\n",
    "dflinux_sm220u=dflinux_sm220u.drop(columns=['i'])\n",
    "dflinux_sm220u['qps'] = qpss\n",
    "dflinux_sm220u['kqps']=[int(x / 1000) for x in qpss]\n",
    "dflinux_sm220u['type']='Linux-Node3'\n",
    "dflinux_sm220u['watts'] = dflinux_sm220u['joules']/30.0\n",
    "\n",
    "print(dflinux_sm220u)\n",
    "\n",
    "## Validate noise in linux_c220g5\n",
    "dflinux_sm220ustd = df.groupby(['qps']).std()\n",
    "dflinux_sm220ustd['qps']=qpss\n",
    "maxerr=0.0\n",
    "for mqps in range(200000, 2000000, 200000):\n",
    "    for metric in ['ins', 'cyc', 'refcyc', 'joules']:\n",
    "        meanm=round(float(dflinux_sm220u[(dflinux_sm220u['qps'] == mqps)][metric]), 2)\n",
    "        stdm=round(float(dflinux_sm220ustd[(dflinux_sm220ustd['qps'] == mqps)][metric]),2)\n",
    "        #print(mqps, metric, round((stdm/meanm)*100.0, 2))\n",
    "        maxerr=max(maxerr, round((stdm/meanm)*100.0, 2))\n",
    "print(f\"Largest error in dflinux_sm220u was {maxerr}% of mean\")"
   ]
  },
  {
   "cell_type": "code",
   "execution_count": 41,
   "id": "13eb7aca-acde-4dae-8af2-cbdb14bdb2d7",
   "metadata": {},
   "outputs": [],
   "source": [
    "for df in [dfebbrt, dflinux_c220g1, dflinux_c220g5, dflinux_sm220u]:\n",
    "    df['rpj'] = df['qps']*30/df['joules']"
   ]
  },
  {
   "cell_type": "code",
   "execution_count": 42,
   "id": "a8613376-899c-4bfb-b323-89fed3e1a117",
   "metadata": {},
   "outputs": [
    {
     "data": {
      "image/png": "[encoded data removed]",
      "text/plain": [
       "<Figure size 432x288 with 1 Axes>"
      ]
     },
     "metadata": {
      "needs_background": "light"
     },
     "output_type": "display_data"
    }
   ],
   "source": [
    "fs=16\n",
    "plt.rc('axes', labelsize=fs)    # fontsize of the x and y labels\n",
    "plt.rc('xtick', labelsize=fs)    # fontsize of the tick labels\n",
    "plt.rc('ytick', labelsize=fs)    # fontsize of the tick labels\n",
    "\n",
    "# Plot 99 tail\n",
    "for df in [dfebbrt, dflinux_c220g1, dflinux_c220g5, dflinux_sm220u]:\n",
    "    plt.plot(df['kqps'].values, df['tail'].values, marker=ms[str(df['type'].unique()[0])], markersize=10, ls='-', label=str(df['type'].unique()[0]))\n",
    "plt.axhline(y = 500, color = 'grey', linestyle = '--', label='SLO') \n",
    "plt.xlabel(\"Throughput (KRPS)\", fontsize=fs)\n",
    "plt.ylabel(\"Latency (us)\", fontsize=fs)\n",
    "plt.ylim(bottom=0, top=1000)\n",
    "plt.grid()\n",
    "plt.legend(ncol=2,fontsize=15)\n",
    "#plt.show()\n",
    "plt.tight_layout()\n",
    "plt.savefig(\"mcd_latency.pdf\")"
   ]
  },
  {
   "cell_type": "code",
   "execution_count": 58,
   "id": "15125449-525a-41f4-b447-8e967664fb4b",
   "metadata": {},
   "outputs": [
    {
     "data": {
      "image/png": "[encoded data removed]",
      "text/plain": [
       "<Figure size 432x288 with 1 Axes>"
      ]
     },
     "metadata": {
      "needs_background": "light"
     },
     "output_type": "display_data"
    }
   ],
   "source": [
    "fs=16\n",
    "plt.rc('axes', labelsize=fs)    # fontsize of the x and y labels\n",
    "plt.rc('xtick', labelsize=fs)    # fontsize of the tick labels\n",
    "plt.rc('ytick', labelsize=fs)    # fontsize of the tick labels\n",
    "\n",
    "for df in [dfebbrt, dflinux_c220g1, dflinux_c220g5, dflinux_sm220u]:\n",
    "    plt.plot(df['kqps'][:-1].values, df['watts'][:-1].values, marker=ms[str(df['type'].unique()[0])], markersize=10, ls='-', label=str(df['type'].unique()[0]))\n",
    "plt.xlabel(\"Throughput (KRPS)\", fontsize=fs)\n",
    "plt.ylabel(\"Power (W)\", fontsize=fs)\n",
    "plt.ylim(bottom=0, top=300)\n",
    "plt.xlim(left=0, right=3000)\n",
    "plt.grid()\n",
    "#plt.legend(ncols=2, fontsize=fs)\n",
    "plt.tight_layout()\n",
    "plt.savefig(\"mcd_joules.pdf\")\n",
    "#plt.show()"
   ]
  },
  {
   "cell_type": "code",
   "execution_count": 46,
   "id": "92c7a10a-a801-4820-950f-c38a92d09f94",
   "metadata": {},
   "outputs": [
    {
     "data": {
      "image/png": "[encoded data removed]",
      "text/plain": [
       "<Figure size 432x288 with 1 Axes>"
      ]
     },
     "metadata": {
      "needs_background": "light"
     },
     "output_type": "display_data"
    }
   ],
   "source": [
    "fs=16\n",
    "plt.rc('axes', labelsize=fs)    # fontsize of the x and y labels\n",
    "plt.rc('xtick', labelsize=fs)    # fontsize of the tick labels\n",
    "plt.rc('ytick', labelsize=fs)    # fontsize of the tick labels\n",
    "\n",
    "for df in [dfebbrt, dflinux_c220g1, dflinux_c220g5, dflinux_sm220u]:\n",
    "    plt.plot(df['kqps'][:-1].values, df['ins'][:-1].values, marker=ms[str(df['type'].unique()[0])], markersize=10, ls='-', label=str(df['type'].unique()[0]))\n",
    "plt.xlabel(\"Throughput (KRPS)\", fontsize=fs)\n",
    "plt.ylabel(\"Instructions\", fontsize=fs)\n",
    "plt.ylim(bottom=0, top=2000000000000)\n",
    "plt.xlim(left=0, right=3000)\n",
    "plt.grid()\n",
    "#plt.legend(ncols=1, fontsize=fs)\n",
    "plt.tight_layout()\n",
    "plt.savefig(\"mcd_instructions.pdf\")\n",
    "#plt.show()"
   ]
  },
  {
   "cell_type": "code",
   "execution_count": 54,
   "id": "8d95c754",
   "metadata": {},
   "outputs": [
    {
     "name": "stdout",
     "output_type": "stream",
     "text": [
      "Index(['ins', 'cyc', 'refcyc', 'joules', 'tail', 'ipc', 'watts', 'qps', 'kqps',\n",
      "       'type', 'rpj'],\n",
      "      dtype='object')\n"
     ]
    }
   ],
   "source": [
    "print(dfebbrt.columns)"
   ]
  },
  {
   "cell_type": "code",
   "execution_count": 56,
   "id": "c153522a-593e-4207-a51a-a37b7aea3c21",
   "metadata": {},
   "outputs": [
    {
     "name": "stdout",
     "output_type": "stream",
     "text": [
      "['EbbRT-Node1']\n",
      "                  ins      watts           rpj      tail\n",
      "qps                                                     \n",
      "200000   4.777431e+10  53.528833   3736.304110    96.225\n",
      "400000   9.507178e+10  57.878000   6911.088842    96.125\n",
      "600000   1.422908e+11  59.041083  10162.415154    96.125\n",
      "800000   1.893191e+11  62.028833  12897.227902    95.900\n",
      "1000000  2.363764e+11  64.920917  15403.356135    96.050\n",
      "1200000  2.836647e+11  65.836083  18227.086717    96.200\n",
      "1400000  3.303890e+11  69.251083  20216.290239    96.100\n",
      "1600000  3.778211e+11  71.741167  22302.397275    96.200\n",
      "1800000  4.251856e+11  73.336444  24544.413267    96.300\n",
      "2000000  4.725948e+11  75.107333  26628.558241    96.550\n",
      "2200000  5.206181e+11  77.648500  28332.807459    98.700\n",
      "2400000  5.693584e+11  80.168333  29937.007547   100.350\n",
      "2600000  6.190667e+11  81.421667  31932.532291   105.400\n",
      "2800000  6.701292e+11  83.574500  33503.042196   146.700\n",
      "3000000  7.270068e+11  87.688333  34212.076863  1576.000\n",
      "*****************************\n",
      "\n",
      "['Linux-Node1']\n",
      "                  ins      watts           rpj      tail\n",
      "qps                                                     \n",
      "200000   2.396295e+11  61.125417   3271.961336   115.350\n",
      "400000   4.344078e+11  73.000417   5479.420780   118.700\n",
      "600000   5.955976e+11  82.410083   7280.662459   145.350\n",
      "800000   7.294787e+11  88.693417   9019.835181   224.925\n",
      "1000000  8.317961e+11  92.884750  10766.029946  1156.775\n",
      "*****************************\n",
      "\n",
      "['Linux-Node2']\n",
      "                  ins       watts           rpj      tail\n",
      "qps                                                      \n",
      "200000   2.345799e+11   81.341583   2458.766990   112.050\n",
      "400000   4.274637e+11   92.016417   4347.050390   113.025\n",
      "600000   5.965455e+11  103.048250   5822.515181   126.400\n",
      "800000   7.404213e+11  109.545667   7302.890423   165.500\n",
      "1000000  8.497317e+11  115.408083   8664.904321   332.625\n",
      "1200000  9.262510e+11  119.597917  10033.619593  1844.450\n",
      "*****************************\n",
      "\n",
      "['Linux-Node3']\n",
      "                  ins       watts          rpj      tail\n",
      "qps                                                     \n",
      "200000   2.820915e+11  173.821417  1150.606202   127.350\n",
      "400000   5.192688e+11  185.544667  2155.815132   145.600\n",
      "600000   7.401712e+11  196.126333  3059.252625   175.050\n",
      "800000   9.474439e+11  206.302833  3877.794537   193.600\n",
      "1000000  1.140180e+12  215.321917  4644.209078   203.175\n",
      "1200000  1.315075e+12  222.661500  5389.346609   214.925\n",
      "1400000  1.468599e+12  229.750250  6093.573348   238.600\n",
      "1600000  1.597888e+12  236.800250  6756.749623   373.050\n",
      "1800000  1.432263e+12  243.326500  7397.468011  3023.325\n",
      "*****************************\n",
      "\n"
     ]
    }
   ],
   "source": [
    "for df in [dfebbrt, dflinux_c220g1, dflinux_c220g5, dflinux_sm220u]:\n",
    "    df['rpj'] = df['qps']/df['watts']\n",
    "    print(df['type'].unique())\n",
    "    print(df[['ins', 'watts', 'rpj', 'tail']])\n",
    "    print('*****************************')\n",
    "    print(\"\")"
   ]
  },
  {
   "cell_type": "code",
   "execution_count": null,
   "id": "175b72b9-a889-4bfc-8d8f-699df9ed2c72",
   "metadata": {},
   "outputs": [],
   "source": []
  },
  {
   "cell_type": "code",
   "execution_count": null,
   "id": "1b30fac6-877c-4c4a-87cb-0f30dc46abeb",
   "metadata": {},
   "outputs": [],
   "source": []
  },
  {
   "cell_type": "code",
   "execution_count": null,
   "id": "79d36415-6d12-4e62-a454-cbfe907d3984",
   "metadata": {},
   "outputs": [],
   "source": []
  },
  {
   "cell_type": "code",
   "execution_count": null,
   "id": "705a2f7a-bf11-4c6f-98cc-2cc9cd28cc82",
   "metadata": {},
   "outputs": [],
   "source": []
  },
  {
   "cell_type": "code",
   "execution_count": null,
   "id": "2042b568-bebd-47bd-b829-e573469f1ecc",
   "metadata": {},
   "outputs": [],
   "source": []
  },
  {
   "cell_type": "code",
   "execution_count": null,
   "id": "40558e56-742c-457f-8b0b-febdf973a15a",
   "metadata": {},
   "outputs": [],
   "source": []
  },
  {
   "cell_type": "code",
   "execution_count": null,
   "id": "a257e5b3-e035-4c37-a7dd-fa26512b0244",
   "metadata": {},
   "outputs": [],
   "source": []
  }
 ],
 "metadata": {
  "kernelspec": {
   "display_name": "Python 3 (ipykernel)",
   "language": "python",
   "name": "python3"
  },
  "language_info": {
   "codemirror_mode": {
    "name": "ipython",
    "version": 3
   },
   "file_extension": ".py",
   "mimetype": "text/x-python",
   "name": "python",
   "nbconvert_exporter": "python",
   "pygments_lexer": "ipython3",
   "version": "3.10.12"
  }
 },
 "nbformat": 4,
 "nbformat_minor": 5
}
